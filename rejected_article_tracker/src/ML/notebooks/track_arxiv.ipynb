{
 "metadata": {
  "language_info": {
   "codemirror_mode": {
    "name": "ipython",
    "version": 3
   },
   "file_extension": ".py",
   "mimetype": "text/x-python",
   "name": "python",
   "nbconvert_exporter": "python",
   "pygments_lexer": "ipython3",
   "version": "3.8.5-final"
  },
  "orig_nbformat": 2,
  "kernelspec": {
   "name": "python3",
   "display_name": "Python 3",
   "language": "python"
  }
 },
 "nbformat": 4,
 "nbformat_minor": 2,
 "cells": [
  {
   "source": [
    "# Fix ArXiv data\n",
    "This python package includes an option to download ArXiv metadata and then use that data to train a simple model for tracking rejected articles with CrossRef. The ArXiv data used here is incomplete in that not all ArXiv preprints correctly link to the right DOI. \n",
    "\n",
    "This notebook runs a simple procedure to use that model to complete the ArXiv data. "
   ],
   "cell_type": "markdown",
   "metadata": {}
  },
  {
   "cell_type": "code",
   "execution_count": 1,
   "metadata": {},
   "outputs": [
    {
     "output_type": "stream",
     "name": "stderr",
     "text": [
      "2021-03-14 10:17:50,761 - rejected_article_tracker.src.ML.ArXivOAIPMH.ArXivOAIPMH - DEBUG - Sufficient OAI-PMH data found. Loading from files.\n",
      "2021-03-14 10:17:51,688 - rejected_article_tracker.src.ML.ArXivOAIPMH.ArXivOAIPMH - DEBUG - Sufficient OAI-PMH data found. Loading from files.\n",
      "100%|██████████| 90677/90677 [01:01<00:00, 1485.22it/s]\n"
     ]
    },
    {
     "output_type": "execute_result",
     "data": {
      "text/plain": [
       "(90677, 16)"
      ]
     },
     "metadata": {},
     "execution_count": 1
    }
   ],
   "source": [
    "# load ArXiv data\n",
    "import os\n",
    "import pandas as pd\n",
    "from rejected_article_tracker.src.ML.ArXivOAIPMH import ArXivOAIPMH\n",
    "\n",
    "arxiv_data_generator = ArXivOAIPMH().yield_json()\n",
    "arxiv = pd.DataFrame(arxiv_data_generator)\n",
    "arxiv.shape"
   ]
  },
  {
   "cell_type": "code",
   "execution_count": 2,
   "metadata": {},
   "outputs": [],
   "source": [
    "# limit to missing entries\n",
    "arxiv = arxiv[arxiv['doi']=='']"
   ]
  },
  {
   "cell_type": "code",
   "execution_count": 3,
   "metadata": {},
   "outputs": [],
   "source": [
    "# convert columns to match expected input\n",
    "# we've based the input for the tracker on Scholar One column-headings\n",
    "# so we need to convert our ArXiv column headings to match.\n",
    "from rejected_article_tracker.src.ML.ArXivAuthorNames import ArXivAuthorNames\n",
    "arxiv['Journal Name']  = 'ArXiv'\n",
    "\n",
    "arxiv = arxiv.rename(columns={'created':'Submission Date',\n",
    "                            'id':'Manuscript ID',\n",
    "                            'title':'Manuscript Title',\n",
    "                            'authors':'Author Names',\n",
    "                            })\n",
    "# add a column for decision date (not important)\n",
    "arxiv['Decision Date'] = arxiv['Submission Date']\n",
    "# pretend they all got rejected\n",
    "arxiv['Accept or Reject Final Decision'] = 'Reject'"
   ]
  },
  {
   "cell_type": "code",
   "execution_count": 4,
   "metadata": {},
   "outputs": [],
   "source": [
    "# preprocess author list\n",
    "def pre_authors(authors):\n",
    "\n",
    "    author_ls = [x.strip() for x in authors.split(',')]\n",
    "    author_ls_out = []\n",
    "    for author in author_ls:\n",
    "        first_last = author.split('+')\n",
    "        first = first_last[0]\n",
    "        try:\n",
    "            last = first_last[1]\n",
    "            author_name = last+', '+first\n",
    "        except:\n",
    "            author_name = first\n",
    "        \n",
    "        author_ls_out.append(author_name)\n",
    "    return '; '.join(author_ls_out)\n",
    "arxiv['Author Names'] = arxiv['Author Names'].map(lambda x: pre_authors(x))"
   ]
  },
  {
   "cell_type": "code",
   "execution_count": 5,
   "metadata": {},
   "outputs": [
    {
     "output_type": "execute_result",
     "data": {
      "text/plain": [
       "  Manuscript ID Submission Date  \\\n",
       "2     1201.0003      2011-12-25   \n",
       "4     1201.0005      2011-12-27   \n",
       "\n",
       "                                        Author Names  \\\n",
       "2  Gorkavenko, Volodymyr M.; Rudenok, Igor; Vilch...   \n",
       "4                                  Krugly, Alexey L.   \n",
       "\n",
       "                                    Manuscript Title categories  \\\n",
       "2  Leptonic asymmetry of the sterile neutrino had...     hep-ph   \n",
       "4  The dynamics of binary alternatives for a disc...      gr-qc   \n",
       "\n",
       "                                            comments  \\\n",
       "2  12 figures, 22 pages, the case of inverted hie...   \n",
       "4  13 pages, 9 figures, work presented at the \"In...   \n",
       "\n",
       "                                         journal-ref doi  \\\n",
       "2         Ukr. J. Phys., Vol.58, No.9 (2013) 811-826       \n",
       "4  in Theoretical physics, Proceeding of the inte...       \n",
       "\n",
       "                                             license  \\\n",
       "2  http://arxiv.org/licenses/nonexclusive-distrib...   \n",
       "4  http://arxiv.org/licenses/nonexclusive-distrib...   \n",
       "\n",
       "                                            abstract   query_id     updated  \\\n",
       "2  We consider the leptonic asymmetry generation ...  1201.0003  2012-06-14   \n",
       "4  A particular case of a causal set is considere...  1201.0005  2011-12-27   \n",
       "\n",
       "  report-no msc-class acm-class proxy Journal Name Decision Date  \\\n",
       "2       NaN       NaN       NaN   NaN        ArXiv    2011-12-25   \n",
       "4       NaN       NaN       NaN   NaN        ArXiv    2011-12-27   \n",
       "\n",
       "  Accept or Reject Final Decision  \n",
       "2                          Reject  \n",
       "4                          Reject  "
      ],
      "text/html": "<div>\n<style scoped>\n    .dataframe tbody tr th:only-of-type {\n        vertical-align: middle;\n    }\n\n    .dataframe tbody tr th {\n        vertical-align: top;\n    }\n\n    .dataframe thead th {\n        text-align: right;\n    }\n</style>\n<table border=\"1\" class=\"dataframe\">\n  <thead>\n    <tr style=\"text-align: right;\">\n      <th></th>\n      <th>Manuscript ID</th>\n      <th>Submission Date</th>\n      <th>Author Names</th>\n      <th>Manuscript Title</th>\n      <th>categories</th>\n      <th>comments</th>\n      <th>journal-ref</th>\n      <th>doi</th>\n      <th>license</th>\n      <th>abstract</th>\n      <th>query_id</th>\n      <th>updated</th>\n      <th>report-no</th>\n      <th>msc-class</th>\n      <th>acm-class</th>\n      <th>proxy</th>\n      <th>Journal Name</th>\n      <th>Decision Date</th>\n      <th>Accept or Reject Final Decision</th>\n    </tr>\n  </thead>\n  <tbody>\n    <tr>\n      <th>2</th>\n      <td>1201.0003</td>\n      <td>2011-12-25</td>\n      <td>Gorkavenko, Volodymyr M.; Rudenok, Igor; Vilch...</td>\n      <td>Leptonic asymmetry of the sterile neutrino had...</td>\n      <td>hep-ph</td>\n      <td>12 figures, 22 pages, the case of inverted hie...</td>\n      <td>Ukr. J. Phys., Vol.58, No.9 (2013) 811-826</td>\n      <td></td>\n      <td>http://arxiv.org/licenses/nonexclusive-distrib...</td>\n      <td>We consider the leptonic asymmetry generation ...</td>\n      <td>1201.0003</td>\n      <td>2012-06-14</td>\n      <td>NaN</td>\n      <td>NaN</td>\n      <td>NaN</td>\n      <td>NaN</td>\n      <td>ArXiv</td>\n      <td>2011-12-25</td>\n      <td>Reject</td>\n    </tr>\n    <tr>\n      <th>4</th>\n      <td>1201.0005</td>\n      <td>2011-12-27</td>\n      <td>Krugly, Alexey L.</td>\n      <td>The dynamics of binary alternatives for a disc...</td>\n      <td>gr-qc</td>\n      <td>13 pages, 9 figures, work presented at the \"In...</td>\n      <td>in Theoretical physics, Proceeding of the inte...</td>\n      <td></td>\n      <td>http://arxiv.org/licenses/nonexclusive-distrib...</td>\n      <td>A particular case of a causal set is considere...</td>\n      <td>1201.0005</td>\n      <td>2011-12-27</td>\n      <td>NaN</td>\n      <td>NaN</td>\n      <td>NaN</td>\n      <td>NaN</td>\n      <td>ArXiv</td>\n      <td>2011-12-27</td>\n      <td>Reject</td>\n    </tr>\n  </tbody>\n</table>\n</div>"
     },
     "metadata": {},
     "execution_count": 5
    }
   ],
   "source": [
    "arxiv.head(2)"
   ]
  },
  {
   "cell_type": "code",
   "execution_count": 6,
   "metadata": {},
   "outputs": [],
   "source": [
    "# use package to search for missing entries\n",
    "# code from readme.md\n",
    "from rejected_article_tracker import ScholarOneRejectedArticlesMatch\n",
    "import pandas as pd\n",
    "\n",
    "allowed_cols = [\n",
    "    'Journal Name',\n",
    "    'Manuscript ID',\n",
    "    'Manuscript Title',\n",
    "    'Author Names',\n",
    "    'Submission Date',\n",
    "    'Decision Date',\n",
    "    'Accept or Reject Final Decision'\n",
    "]\n",
    "\n",
    "# for testing\n",
    "articles = arxiv.sample(20)[allowed_cols].to_dict('records')\n",
    "\n",
    "# Which might look like:\n",
    "\"\"\"  \n",
    "articles = [\n",
    "{\n",
    "      \"Journal Name\": \"The International Journal of Robotics Research\",\n",
    "      \"Manuscript Title\": \"Learning hand-eye coordination for robotic grasping with deep learning and large-scale data collection\",\n",
    "      \"Author Names\": \"Levine, Sergey; Pastor, Peter; Krizhevsky, Alex; Ibarz, Julian; Quillen, Deirdre\",\n",
    "      \"Accept or Reject Final Decision\": \"\",\n",
    "      \"Decision Date\": \"2019-01-01T13:29:58.999Z\", \n",
    "      \"Submission Date\": \"2018-10-01T13:29:58.999Z\",\n",
    "      \"Manuscript ID\": \"ABC-18-070\",\n",
    "    }\n",
    "]\n",
    "\"\"\"\n",
    "\n",
    "# @see below for configuration details.\n",
    "search_config = {\n",
    "    \"threshold\": 70, # Filters out matches which are less than this nubmer  \n",
    "}\n",
    "\n",
    "# The CrossRef API requires an email address for lookups.    \n",
    "email = os.environ['MY_EMAIL'] or \"someome@example.com\"\n"
   ]
  },
  {
   "source": [
    "# Test\n",
    "Check to see how long it takes to retrieve results from a batch of articles."
   ],
   "cell_type": "markdown",
   "metadata": {}
  },
  {
   "cell_type": "code",
   "execution_count": 7,
   "metadata": {},
   "outputs": [],
   "source": [
    "# %%time\n",
    "# # Define a 'results' list.\n",
    "# results = []\n",
    "\n",
    "# # Run match\n",
    "# ScholarOneRejectedArticlesMatch(\n",
    "#     articles=articles,\n",
    "#     config=search_config,\n",
    "#     email=email,\n",
    "#     results=results\n",
    "# ).match()\n",
    "\n",
    "# print(len(results))"
   ]
  },
  {
   "source": [
    "Test took 2mins to retrieve data for 20 articles. In the past, we've had average times of ~3s per article, but this is more like 6s per article. \n",
    "\n",
    "At 6s per article, the entire 40k dataset will take ~65hrs to retrieve. \n",
    "\n",
    "In practice, you can use a server / VM to run the process constantly. But another option is to do it in stages."
   ],
   "cell_type": "markdown",
   "metadata": {}
  },
  {
   "cell_type": "code",
   "execution_count": 8,
   "metadata": {
    "tags": []
   },
   "outputs": [
    {
     "output_type": "stream",
     "name": "stderr",
     "text": [
      "100%|██████████| 58/58 [00:00<?, ?it/s]\n",
      "  0%|          | 0/58 [00:00<?, ?it/s]Starting with dataframe, shape: (37470, 24)\n",
      "2021-03-14 10:18:54,995 - numexpr.utils - INFO - NumExpr defaulting to 8 threads.\n",
      "C:\\Users\\AdamD\\anaconda3\\lib\\site-packages\\sklearn\\utils\\deprecation.py:143: FutureWarning: The sklearn.linear_model.logistic module is  deprecated in version 0.22 and will be removed in version 0.24. The corresponding classes / functions should instead be imported from sklearn.linear_model. Anything that cannot be imported from sklearn.linear_model is now part of the private API.\n",
      "  warnings.warn(message, FutureWarning)\n",
      "C:\\Users\\AdamD\\anaconda3\\lib\\site-packages\\sklearn\\base.py:329: UserWarning: Trying to unpickle estimator LogisticRegression from version 0.20.3 when using version 0.23.2. This might lead to breaking code or invalid results. Use at your own risk.\n",
      "  warnings.warn(\n",
      "  2%|▏         | 1/58 [01:23<1:19:08, 83.30s/it]C:\\Users\\AdamD\\anaconda3\\lib\\site-packages\\sklearn\\base.py:329: UserWarning: Trying to unpickle estimator LogisticRegression from version 0.20.3 when using version 0.23.2. This might lead to breaking code or invalid results. Use at your own risk.\n",
      "  warnings.warn(\n",
      "  3%|▎         | 2/58 [02:03<1:05:34, 70.25s/it]C:\\Users\\AdamD\\anaconda3\\lib\\site-packages\\sklearn\\base.py:329: UserWarning: Trying to unpickle estimator LogisticRegression from version 0.20.3 when using version 0.23.2. This might lead to breaking code or invalid results. Use at your own risk.\n",
      "  warnings.warn(\n",
      "  5%|▌         | 3/58 [02:42<55:57, 61.04s/it]  C:\\Users\\AdamD\\anaconda3\\lib\\site-packages\\sklearn\\base.py:329: UserWarning: Trying to unpickle estimator LogisticRegression from version 0.20.3 when using version 0.23.2. This might lead to breaking code or invalid results. Use at your own risk.\n",
      "  warnings.warn(\n",
      "  7%|▋         | 4/58 [03:31<51:36, 57.33s/it]C:\\Users\\AdamD\\anaconda3\\lib\\site-packages\\sklearn\\base.py:329: UserWarning: Trying to unpickle estimator LogisticRegression from version 0.20.3 when using version 0.23.2. This might lead to breaking code or invalid results. Use at your own risk.\n",
      "  warnings.warn(\n",
      "  9%|▊         | 5/58 [04:21<48:45, 55.20s/it]C:\\Users\\AdamD\\anaconda3\\lib\\site-packages\\sklearn\\base.py:329: UserWarning: Trying to unpickle estimator LogisticRegression from version 0.20.3 when using version 0.23.2. This might lead to breaking code or invalid results. Use at your own risk.\n",
      "  warnings.warn(\n",
      " 10%|█         | 6/58 [04:59<43:19, 49.99s/it]C:\\Users\\AdamD\\anaconda3\\lib\\site-packages\\sklearn\\base.py:329: UserWarning: Trying to unpickle estimator LogisticRegression from version 0.20.3 when using version 0.23.2. This might lead to breaking code or invalid results. Use at your own risk.\n",
      "  warnings.warn(\n",
      " 12%|█▏        | 7/58 [06:00<45:16, 53.26s/it]C:\\Users\\AdamD\\anaconda3\\lib\\site-packages\\sklearn\\base.py:329: UserWarning: Trying to unpickle estimator LogisticRegression from version 0.20.3 when using version 0.23.2. This might lead to breaking code or invalid results. Use at your own risk.\n",
      "  warnings.warn(\n",
      " 14%|█▍        | 8/58 [07:32<54:08, 64.98s/it]C:\\Users\\AdamD\\anaconda3\\lib\\site-packages\\sklearn\\base.py:329: UserWarning: Trying to unpickle estimator LogisticRegression from version 0.20.3 when using version 0.23.2. This might lead to breaking code or invalid results. Use at your own risk.\n",
      "  warnings.warn(\n",
      " 16%|█▌        | 9/58 [09:26<1:05:04, 79.68s/it]C:\\Users\\AdamD\\anaconda3\\lib\\site-packages\\sklearn\\base.py:329: UserWarning: Trying to unpickle estimator LogisticRegression from version 0.20.3 when using version 0.23.2. This might lead to breaking code or invalid results. Use at your own risk.\n",
      "  warnings.warn(\n",
      " 17%|█▋        | 10/58 [10:30<59:51, 74.82s/it] C:\\Users\\AdamD\\anaconda3\\lib\\site-packages\\sklearn\\base.py:329: UserWarning: Trying to unpickle estimator LogisticRegression from version 0.20.3 when using version 0.23.2. This might lead to breaking code or invalid results. Use at your own risk.\n",
      "  warnings.warn(\n",
      " 19%|█▉        | 11/58 [11:28<54:44, 69.89s/it]C:\\Users\\AdamD\\anaconda3\\lib\\site-packages\\sklearn\\base.py:329: UserWarning: Trying to unpickle estimator LogisticRegression from version 0.20.3 when using version 0.23.2. This might lead to breaking code or invalid results. Use at your own risk.\n",
      "  warnings.warn(\n",
      " 21%|██        | 12/58 [12:20<49:27, 64.51s/it]C:\\Users\\AdamD\\anaconda3\\lib\\site-packages\\sklearn\\base.py:329: UserWarning: Trying to unpickle estimator LogisticRegression from version 0.20.3 when using version 0.23.2. This might lead to breaking code or invalid results. Use at your own risk.\n",
      "  warnings.warn(\n",
      " 22%|██▏       | 13/58 [13:05<44:01, 58.69s/it]C:\\Users\\AdamD\\anaconda3\\lib\\site-packages\\sklearn\\base.py:329: UserWarning: Trying to unpickle estimator LogisticRegression from version 0.20.3 when using version 0.23.2. This might lead to breaking code or invalid results. Use at your own risk.\n",
      "  warnings.warn(\n",
      " 24%|██▍       | 14/58 [13:59<41:59, 57.25s/it]C:\\Users\\AdamD\\anaconda3\\lib\\site-packages\\sklearn\\base.py:329: UserWarning: Trying to unpickle estimator LogisticRegression from version 0.20.3 when using version 0.23.2. This might lead to breaking code or invalid results. Use at your own risk.\n",
      "  warnings.warn(\n",
      " 26%|██▌       | 15/58 [14:35<36:34, 51.02s/it]C:\\Users\\AdamD\\anaconda3\\lib\\site-packages\\sklearn\\base.py:329: UserWarning: Trying to unpickle estimator LogisticRegression from version 0.20.3 when using version 0.23.2. This might lead to breaking code or invalid results. Use at your own risk.\n",
      "  warnings.warn(\n",
      " 28%|██▊       | 16/58 [15:21<34:31, 49.32s/it]C:\\Users\\AdamD\\anaconda3\\lib\\site-packages\\sklearn\\base.py:329: UserWarning: Trying to unpickle estimator LogisticRegression from version 0.20.3 when using version 0.23.2. This might lead to breaking code or invalid results. Use at your own risk.\n",
      "  warnings.warn(\n",
      " 29%|██▉       | 17/58 [16:14<34:36, 50.65s/it]C:\\Users\\AdamD\\anaconda3\\lib\\site-packages\\sklearn\\base.py:329: UserWarning: Trying to unpickle estimator LogisticRegression from version 0.20.3 when using version 0.23.2. This might lead to breaking code or invalid results. Use at your own risk.\n",
      "  warnings.warn(\n",
      " 31%|███       | 18/58 [17:12<35:06, 52.66s/it]C:\\Users\\AdamD\\anaconda3\\lib\\site-packages\\sklearn\\base.py:329: UserWarning: Trying to unpickle estimator LogisticRegression from version 0.20.3 when using version 0.23.2. This might lead to breaking code or invalid results. Use at your own risk.\n",
      "  warnings.warn(\n",
      " 33%|███▎      | 19/58 [17:48<31:04, 47.81s/it]C:\\Users\\AdamD\\anaconda3\\lib\\site-packages\\sklearn\\base.py:329: UserWarning: Trying to unpickle estimator LogisticRegression from version 0.20.3 when using version 0.23.2. This might lead to breaking code or invalid results. Use at your own risk.\n",
      "  warnings.warn(\n",
      " 34%|███▍      | 20/58 [18:46<32:13, 50.87s/it]C:\\Users\\AdamD\\anaconda3\\lib\\site-packages\\sklearn\\base.py:329: UserWarning: Trying to unpickle estimator LogisticRegression from version 0.20.3 when using version 0.23.2. This might lead to breaking code or invalid results. Use at your own risk.\n",
      "  warnings.warn(\n",
      " 36%|███▌      | 21/58 [19:41<32:05, 52.04s/it]C:\\Users\\AdamD\\anaconda3\\lib\\site-packages\\sklearn\\base.py:329: UserWarning: Trying to unpickle estimator LogisticRegression from version 0.20.3 when using version 0.23.2. This might lead to breaking code or invalid results. Use at your own risk.\n",
      "  warnings.warn(\n",
      " 38%|███▊      | 22/58 [20:28<30:15, 50.43s/it]C:\\Users\\AdamD\\anaconda3\\lib\\site-packages\\sklearn\\base.py:329: UserWarning: Trying to unpickle estimator LogisticRegression from version 0.20.3 when using version 0.23.2. This might lead to breaking code or invalid results. Use at your own risk.\n",
      "  warnings.warn(\n",
      " 40%|███▉      | 23/58 [21:01<26:20, 45.15s/it]C:\\Users\\AdamD\\anaconda3\\lib\\site-packages\\sklearn\\base.py:329: UserWarning: Trying to unpickle estimator LogisticRegression from version 0.20.3 when using version 0.23.2. This might lead to breaking code or invalid results. Use at your own risk.\n",
      "  warnings.warn(\n",
      " 41%|████▏     | 24/58 [21:38<24:17, 42.86s/it]C:\\Users\\AdamD\\anaconda3\\lib\\site-packages\\sklearn\\base.py:329: UserWarning: Trying to unpickle estimator LogisticRegression from version 0.20.3 when using version 0.23.2. This might lead to breaking code or invalid results. Use at your own risk.\n",
      "  warnings.warn(\n",
      " 43%|████▎     | 25/58 [22:18<23:06, 42.00s/it]C:\\Users\\AdamD\\anaconda3\\lib\\site-packages\\sklearn\\base.py:329: UserWarning: Trying to unpickle estimator LogisticRegression from version 0.20.3 when using version 0.23.2. This might lead to breaking code or invalid results. Use at your own risk.\n",
      "  warnings.warn(\n",
      " 45%|████▍     | 26/58 [23:03<22:54, 42.95s/it]C:\\Users\\AdamD\\anaconda3\\lib\\site-packages\\sklearn\\base.py:329: UserWarning: Trying to unpickle estimator LogisticRegression from version 0.20.3 when using version 0.23.2. This might lead to breaking code or invalid results. Use at your own risk.\n",
      "  warnings.warn(\n",
      " 47%|████▋     | 27/58 [23:59<24:13, 46.88s/it]C:\\Users\\AdamD\\anaconda3\\lib\\site-packages\\sklearn\\base.py:329: UserWarning: Trying to unpickle estimator LogisticRegression from version 0.20.3 when using version 0.23.2. This might lead to breaking code or invalid results. Use at your own risk.\n",
      "  warnings.warn(\n",
      " 48%|████▊     | 28/58 [24:48<23:39, 47.32s/it]C:\\Users\\AdamD\\anaconda3\\lib\\site-packages\\sklearn\\base.py:329: UserWarning: Trying to unpickle estimator LogisticRegression from version 0.20.3 when using version 0.23.2. This might lead to breaking code or invalid results. Use at your own risk.\n",
      "  warnings.warn(\n",
      " 50%|█████     | 29/58 [25:48<24:43, 51.14s/it]C:\\Users\\AdamD\\anaconda3\\lib\\site-packages\\sklearn\\base.py:329: UserWarning: Trying to unpickle estimator LogisticRegression from version 0.20.3 when using version 0.23.2. This might lead to breaking code or invalid results. Use at your own risk.\n",
      "  warnings.warn(\n",
      " 52%|█████▏    | 30/58 [26:56<26:16, 56.30s/it]C:\\Users\\AdamD\\anaconda3\\lib\\site-packages\\sklearn\\base.py:329: UserWarning: Trying to unpickle estimator LogisticRegression from version 0.20.3 when using version 0.23.2. This might lead to breaking code or invalid results. Use at your own risk.\n",
      "  warnings.warn(\n",
      " 53%|█████▎    | 31/58 [28:13<28:10, 62.61s/it]C:\\Users\\AdamD\\anaconda3\\lib\\site-packages\\sklearn\\base.py:329: UserWarning: Trying to unpickle estimator LogisticRegression from version 0.20.3 when using version 0.23.2. This might lead to breaking code or invalid results. Use at your own risk.\n",
      "  warnings.warn(\n",
      " 55%|█████▌    | 32/58 [29:08<26:04, 60.18s/it]C:\\Users\\AdamD\\anaconda3\\lib\\site-packages\\sklearn\\base.py:329: UserWarning: Trying to unpickle estimator LogisticRegression from version 0.20.3 when using version 0.23.2. This might lead to breaking code or invalid results. Use at your own risk.\n",
      "  warnings.warn(\n",
      " 57%|█████▋    | 33/58 [30:02<24:21, 58.45s/it]C:\\Users\\AdamD\\anaconda3\\lib\\site-packages\\sklearn\\base.py:329: UserWarning: Trying to unpickle estimator LogisticRegression from version 0.20.3 when using version 0.23.2. This might lead to breaking code or invalid results. Use at your own risk.\n",
      "  warnings.warn(\n",
      " 59%|█████▊    | 34/58 [30:51<22:09, 55.38s/it]C:\\Users\\AdamD\\anaconda3\\lib\\site-packages\\sklearn\\base.py:329: UserWarning: Trying to unpickle estimator LogisticRegression from version 0.20.3 when using version 0.23.2. This might lead to breaking code or invalid results. Use at your own risk.\n",
      "  warnings.warn(\n",
      " 60%|██████    | 35/58 [31:46<21:12, 55.31s/it]C:\\Users\\AdamD\\anaconda3\\lib\\site-packages\\sklearn\\base.py:329: UserWarning: Trying to unpickle estimator LogisticRegression from version 0.20.3 when using version 0.23.2. This might lead to breaking code or invalid results. Use at your own risk.\n",
      "  warnings.warn(\n",
      " 62%|██████▏   | 36/58 [32:23<18:15, 49.80s/it]C:\\Users\\AdamD\\anaconda3\\lib\\site-packages\\sklearn\\base.py:329: UserWarning: Trying to unpickle estimator LogisticRegression from version 0.20.3 when using version 0.23.2. This might lead to breaking code or invalid results. Use at your own risk.\n",
      "  warnings.warn(\n",
      " 64%|██████▍   | 37/58 [33:14<17:35, 50.27s/it]C:\\Users\\AdamD\\anaconda3\\lib\\site-packages\\sklearn\\base.py:329: UserWarning: Trying to unpickle estimator LogisticRegression from version 0.20.3 when using version 0.23.2. This might lead to breaking code or invalid results. Use at your own risk.\n",
      "  warnings.warn(\n",
      " 66%|██████▌   | 38/58 [34:13<17:38, 52.92s/it]C:\\Users\\AdamD\\anaconda3\\lib\\site-packages\\sklearn\\base.py:329: UserWarning: Trying to unpickle estimator LogisticRegression from version 0.20.3 when using version 0.23.2. This might lead to breaking code or invalid results. Use at your own risk.\n",
      "  warnings.warn(\n",
      " 67%|██████▋   | 39/58 [35:12<17:21, 54.80s/it]C:\\Users\\AdamD\\anaconda3\\lib\\site-packages\\sklearn\\base.py:329: UserWarning: Trying to unpickle estimator LogisticRegression from version 0.20.3 when using version 0.23.2. This might lead to breaking code or invalid results. Use at your own risk.\n",
      "  warnings.warn(\n",
      " 69%|██████▉   | 40/58 [36:06<16:17, 54.33s/it]C:\\Users\\AdamD\\anaconda3\\lib\\site-packages\\sklearn\\base.py:329: UserWarning: Trying to unpickle estimator LogisticRegression from version 0.20.3 when using version 0.23.2. This might lead to breaking code or invalid results. Use at your own risk.\n",
      "  warnings.warn(\n",
      " 71%|███████   | 41/58 [36:51<14:36, 51.57s/it]C:\\Users\\AdamD\\anaconda3\\lib\\site-packages\\sklearn\\base.py:329: UserWarning: Trying to unpickle estimator LogisticRegression from version 0.20.3 when using version 0.23.2. This might lead to breaking code or invalid results. Use at your own risk.\n",
      "  warnings.warn(\n",
      " 72%|███████▏  | 42/58 [37:45<13:58, 52.38s/it]C:\\Users\\AdamD\\anaconda3\\lib\\site-packages\\sklearn\\base.py:329: UserWarning: Trying to unpickle estimator LogisticRegression from version 0.20.3 when using version 0.23.2. This might lead to breaking code or invalid results. Use at your own risk.\n",
      "  warnings.warn(\n",
      " 74%|███████▍  | 43/58 [38:43<13:32, 54.20s/it]C:\\Users\\AdamD\\anaconda3\\lib\\site-packages\\sklearn\\base.py:329: UserWarning: Trying to unpickle estimator LogisticRegression from version 0.20.3 when using version 0.23.2. This might lead to breaking code or invalid results. Use at your own risk.\n",
      "  warnings.warn(\n",
      " 76%|███████▌  | 44/58 [39:37<12:35, 53.96s/it]C:\\Users\\AdamD\\anaconda3\\lib\\site-packages\\sklearn\\base.py:329: UserWarning: Trying to unpickle estimator LogisticRegression from version 0.20.3 when using version 0.23.2. This might lead to breaking code or invalid results. Use at your own risk.\n",
      "  warnings.warn(\n",
      " 78%|███████▊  | 45/58 [40:19<10:55, 50.46s/it]C:\\Users\\AdamD\\anaconda3\\lib\\site-packages\\sklearn\\base.py:329: UserWarning: Trying to unpickle estimator LogisticRegression from version 0.20.3 when using version 0.23.2. This might lead to breaking code or invalid results. Use at your own risk.\n",
      "  warnings.warn(\n",
      " 79%|███████▉  | 46/58 [41:09<10:05, 50.42s/it]C:\\Users\\AdamD\\anaconda3\\lib\\site-packages\\sklearn\\base.py:329: UserWarning: Trying to unpickle estimator LogisticRegression from version 0.20.3 when using version 0.23.2. This might lead to breaking code or invalid results. Use at your own risk.\n",
      "  warnings.warn(\n",
      " 81%|████████  | 47/58 [41:56<09:00, 49.16s/it]C:\\Users\\AdamD\\anaconda3\\lib\\site-packages\\sklearn\\base.py:329: UserWarning: Trying to unpickle estimator LogisticRegression from version 0.20.3 when using version 0.23.2. This might lead to breaking code or invalid results. Use at your own risk.\n",
      "  warnings.warn(\n",
      " 83%|████████▎ | 48/58 [42:50<08:27, 50.78s/it]C:\\Users\\AdamD\\anaconda3\\lib\\site-packages\\sklearn\\base.py:329: UserWarning: Trying to unpickle estimator LogisticRegression from version 0.20.3 when using version 0.23.2. This might lead to breaking code or invalid results. Use at your own risk.\n",
      "  warnings.warn(\n",
      " 84%|████████▍ | 49/58 [43:41<07:37, 50.85s/it]C:\\Users\\AdamD\\anaconda3\\lib\\site-packages\\sklearn\\base.py:329: UserWarning: Trying to unpickle estimator LogisticRegression from version 0.20.3 when using version 0.23.2. This might lead to breaking code or invalid results. Use at your own risk.\n",
      "  warnings.warn(\n",
      " 86%|████████▌ | 50/58 [44:36<06:56, 52.04s/it]C:\\Users\\AdamD\\anaconda3\\lib\\site-packages\\sklearn\\base.py:329: UserWarning: Trying to unpickle estimator LogisticRegression from version 0.20.3 when using version 0.23.2. This might lead to breaking code or invalid results. Use at your own risk.\n",
      "  warnings.warn(\n",
      " 88%|████████▊ | 51/58 [45:20<05:46, 49.53s/it]C:\\Users\\AdamD\\anaconda3\\lib\\site-packages\\sklearn\\base.py:329: UserWarning: Trying to unpickle estimator LogisticRegression from version 0.20.3 when using version 0.23.2. This might lead to breaking code or invalid results. Use at your own risk.\n",
      "  warnings.warn(\n",
      " 90%|████████▉ | 52/58 [46:07<04:52, 48.83s/it]C:\\Users\\AdamD\\anaconda3\\lib\\site-packages\\sklearn\\base.py:329: UserWarning: Trying to unpickle estimator LogisticRegression from version 0.20.3 when using version 0.23.2. This might lead to breaking code or invalid results. Use at your own risk.\n",
      "  warnings.warn(\n",
      " 91%|█████████▏| 53/58 [47:20<04:40, 56.12s/it]C:\\Users\\AdamD\\anaconda3\\lib\\site-packages\\sklearn\\base.py:329: UserWarning: Trying to unpickle estimator LogisticRegression from version 0.20.3 when using version 0.23.2. This might lead to breaking code or invalid results. Use at your own risk.\n",
      "  warnings.warn(\n",
      " 93%|█████████▎| 54/58 [48:51<04:26, 66.70s/it]C:\\Users\\AdamD\\anaconda3\\lib\\site-packages\\sklearn\\base.py:329: UserWarning: Trying to unpickle estimator LogisticRegression from version 0.20.3 when using version 0.23.2. This might lead to breaking code or invalid results. Use at your own risk.\n",
      "  warnings.warn(\n",
      " 95%|█████████▍| 55/58 [49:45<03:08, 62.89s/it]C:\\Users\\AdamD\\anaconda3\\lib\\site-packages\\sklearn\\base.py:329: UserWarning: Trying to unpickle estimator LogisticRegression from version 0.20.3 when using version 0.23.2. This might lead to breaking code or invalid results. Use at your own risk.\n",
      "  warnings.warn(\n",
      " 97%|█████████▋| 56/58 [50:40<02:00, 60.41s/it]C:\\Users\\AdamD\\anaconda3\\lib\\site-packages\\sklearn\\base.py:329: UserWarning: Trying to unpickle estimator LogisticRegression from version 0.20.3 when using version 0.23.2. This might lead to breaking code or invalid results. Use at your own risk.\n",
      "  warnings.warn(\n",
      " 98%|█████████▊| 57/58 [51:25<00:55, 55.72s/it]C:\\Users\\AdamD\\anaconda3\\lib\\site-packages\\sklearn\\base.py:329: UserWarning: Trying to unpickle estimator LogisticRegression from version 0.20.3 when using version 0.23.2. This might lead to breaking code or invalid results. Use at your own risk.\n",
      "  warnings.warn(\n",
      "100%|██████████| 58/58 [51:36<00:00, 53.39s/it]\n"
     ]
    }
   ],
   "source": [
    "from rejected_article_tracker.src.ML.CrossRefUtils import CrossRefUtils\n",
    "from rejected_article_tracker.src.ML.config import Config as config\n",
    "from tqdm import tqdm\n",
    "\n",
    "data_path = config.ml_data_dir\n",
    "data_file_path = os.path.join(data_path,'arxiv_results.csv')\n",
    "\n",
    "if os.path.exists(data_file_path):\n",
    "    results_df = pd.read_csv(data_file_path)\n",
    "else:\n",
    "    results_df = pd.DataFrame()\n",
    "\n",
    "print('Starting with dataframe, shape:', results_df.shape)\n",
    "\n",
    "# run the whole dataset\n",
    "articles = arxiv[allowed_cols].to_dict('records')\n",
    "\n",
    "# drop any that we've already retrieved\n",
    "n_results_retrieved = results_df.shape[0]\n",
    "articles = articles[n_results_retrieved:]\n",
    "\n",
    "# split into batches so that we can write out periodically\n",
    "batches = list(CrossRefUtils().chunks(articles, 30))\n",
    "\n",
    "for batch in tqdm(batches):\n",
    "    # Define a 'results' list.\n",
    "    results = []\n",
    "    # Run match\n",
    "    ScholarOneRejectedArticlesMatch(\n",
    "        articles=batch,\n",
    "        config=search_config,\n",
    "        email=email,\n",
    "        results=results\n",
    "    ).match()\n",
    "\n",
    "    results_df = pd.concat([results_df,pd.DataFrame(results)])\n",
    "    results_df.to_csv(data_file_path, index=False)"
   ]
  },
  {
   "source": [
    "## What did we find?"
   ],
   "cell_type": "markdown",
   "metadata": {}
  },
  {
   "cell_type": "code",
   "execution_count": 9,
   "metadata": {},
   "outputs": [
    {
     "output_type": "execute_result",
     "data": {
      "text/plain": [
       "  manuscript_id raw_manuscript_id journal_name  \\\n",
       "0          1201              1201        ArXiv   \n",
       "1          1201              1201        ArXiv   \n",
       "\n",
       "                                    manuscript_title submission_date  \\\n",
       "0  Leptonic asymmetry of the sterile neutrino had...      2011-12-25   \n",
       "1  The dynamics of binary alternatives for a disc...      2011-12-27   \n",
       "\n",
       "  decision_date                                            authors  \\\n",
       "0    2011-12-25  Volodymyr M.+Gorkavenko, Igor+Rudenok, Stanisl...   \n",
       "1    2011-12-27                                   Alexey L.+Krugly   \n",
       "\n",
       "  text_sub_date final_decision match_doi  ... match_journal match_pub_date  \\\n",
       "0    2011-12-25         Reject  No Match  ...      No Match       No Match   \n",
       "1    2011-12-27         Reject  No Match  ...      No Match       No Match   \n",
       "\n",
       "  match_earliest_date match_similarity match_one match_all  \\\n",
       "0            No Match         No Match  No Match  No Match   \n",
       "1            No Match         No Match  No Match  No Match   \n",
       "\n",
       "  match_crossref_score match_crossref_cites match_rank  \\\n",
       "0             No Match             No Match   No Match   \n",
       "1             No Match             No Match   No Match   \n",
       "\n",
       "  match_total_decision_days  \n",
       "0                  No Match  \n",
       "1                  No Match  \n",
       "\n",
       "[2 rows x 24 columns]"
      ],
      "text/html": "<div>\n<style scoped>\n    .dataframe tbody tr th:only-of-type {\n        vertical-align: middle;\n    }\n\n    .dataframe tbody tr th {\n        vertical-align: top;\n    }\n\n    .dataframe thead th {\n        text-align: right;\n    }\n</style>\n<table border=\"1\" class=\"dataframe\">\n  <thead>\n    <tr style=\"text-align: right;\">\n      <th></th>\n      <th>manuscript_id</th>\n      <th>raw_manuscript_id</th>\n      <th>journal_name</th>\n      <th>manuscript_title</th>\n      <th>submission_date</th>\n      <th>decision_date</th>\n      <th>authors</th>\n      <th>text_sub_date</th>\n      <th>final_decision</th>\n      <th>match_doi</th>\n      <th>...</th>\n      <th>match_journal</th>\n      <th>match_pub_date</th>\n      <th>match_earliest_date</th>\n      <th>match_similarity</th>\n      <th>match_one</th>\n      <th>match_all</th>\n      <th>match_crossref_score</th>\n      <th>match_crossref_cites</th>\n      <th>match_rank</th>\n      <th>match_total_decision_days</th>\n    </tr>\n  </thead>\n  <tbody>\n    <tr>\n      <th>0</th>\n      <td>1201</td>\n      <td>1201</td>\n      <td>ArXiv</td>\n      <td>Leptonic asymmetry of the sterile neutrino had...</td>\n      <td>2011-12-25</td>\n      <td>2011-12-25</td>\n      <td>Volodymyr M.+Gorkavenko, Igor+Rudenok, Stanisl...</td>\n      <td>2011-12-25</td>\n      <td>Reject</td>\n      <td>No Match</td>\n      <td>...</td>\n      <td>No Match</td>\n      <td>No Match</td>\n      <td>No Match</td>\n      <td>No Match</td>\n      <td>No Match</td>\n      <td>No Match</td>\n      <td>No Match</td>\n      <td>No Match</td>\n      <td>No Match</td>\n      <td>No Match</td>\n    </tr>\n    <tr>\n      <th>1</th>\n      <td>1201</td>\n      <td>1201</td>\n      <td>ArXiv</td>\n      <td>The dynamics of binary alternatives for a disc...</td>\n      <td>2011-12-27</td>\n      <td>2011-12-27</td>\n      <td>Alexey L.+Krugly</td>\n      <td>2011-12-27</td>\n      <td>Reject</td>\n      <td>No Match</td>\n      <td>...</td>\n      <td>No Match</td>\n      <td>No Match</td>\n      <td>No Match</td>\n      <td>No Match</td>\n      <td>No Match</td>\n      <td>No Match</td>\n      <td>No Match</td>\n      <td>No Match</td>\n      <td>No Match</td>\n      <td>No Match</td>\n    </tr>\n  </tbody>\n</table>\n<p>2 rows × 24 columns</p>\n</div>"
     },
     "metadata": {},
     "execution_count": 9
    }
   ],
   "source": [
    "results_df.head(2)"
   ]
  },
  {
   "cell_type": "code",
   "execution_count": null,
   "metadata": {},
   "outputs": [],
   "source": []
  }
 ]
}